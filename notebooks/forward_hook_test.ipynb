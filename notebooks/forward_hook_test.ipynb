{
 "cells": [
  {
   "cell_type": "code",
   "execution_count": 1,
   "id": "f44a5b61",
   "metadata": {},
   "outputs": [],
   "source": [
    "import torch\n",
    "import clip\n",
    "from PIL import Image"
   ]
  },
  {
   "cell_type": "code",
   "execution_count": 2,
   "id": "928b0aca",
   "metadata": {},
   "outputs": [],
   "source": [
    "model, preprocess = clip.load(\"ViT-B/16\", device=\"cpu\", download_root=\"/vinai/thanhlv19/workspace/clip/\")"
   ]
  },
  {
   "cell_type": "code",
   "execution_count": 5,
   "id": "eebf1ab7",
   "metadata": {},
   "outputs": [],
   "source": [
    "image = preprocess(Image.open(\"../optimization/jk.jpg\")).unsqueeze(0).to(\"cpu\")"
   ]
  },
  {
   "cell_type": "code",
   "execution_count": 12,
   "id": "b81457a5",
   "metadata": {
    "scrolled": false
   },
   "outputs": [
    {
     "data": {
      "text/plain": [
       "LayerNorm((768,), eps=1e-05, elementwise_affine=True)"
      ]
     },
     "execution_count": 12,
     "metadata": {},
     "output_type": "execute_result"
    }
   ],
   "source": [
    "model.visual.ln_post"
   ]
  },
  {
   "cell_type": "code",
   "execution_count": 13,
   "id": "7a3cf691",
   "metadata": {},
   "outputs": [],
   "source": [
    "class HookInputOutput:\n",
    "    def __init__(self):\n",
    "        self.inputs = []\n",
    "        self.outputs = []\n",
    "        \n",
    "    def __call__(self, module, module_in, module_out):\n",
    "        self.inputs.append(module_in)\n",
    "        self.outputs.append(module_out)\n",
    "        \n",
    "    def clear(self):\n",
    "        self.inputs = []\n",
    "        self.outputs = []"
   ]
  },
  {
   "cell_type": "code",
   "execution_count": 34,
   "id": "4d63c0d0",
   "metadata": {},
   "outputs": [],
   "source": [
    "hook = HookInputOutput()"
   ]
  },
  {
   "cell_type": "code",
   "execution_count": 35,
   "id": "529c0259",
   "metadata": {},
   "outputs": [],
   "source": [
    "hook.clear()"
   ]
  },
  {
   "cell_type": "code",
   "execution_count": 36,
   "id": "49d821d7",
   "metadata": {},
   "outputs": [],
   "source": [
    "handle = model.visual.transformer.register_forward_hook(hook)"
   ]
  },
  {
   "cell_type": "code",
   "execution_count": 37,
   "id": "e1250ad0",
   "metadata": {},
   "outputs": [],
   "source": [
    "out = model.visual(image)"
   ]
  },
  {
   "cell_type": "code",
   "execution_count": 41,
   "id": "f7755c3c",
   "metadata": {},
   "outputs": [
    {
     "data": {
      "text/plain": [
       "torch.Size([197, 1, 768])"
      ]
     },
     "execution_count": 41,
     "metadata": {},
     "output_type": "execute_result"
    }
   ],
   "source": [
    "hook.inputs[0][0].shape"
   ]
  },
  {
   "cell_type": "code",
   "execution_count": 43,
   "id": "7703a2cb",
   "metadata": {},
   "outputs": [],
   "source": [
    "transformers_output = hook.outputs[0] # L, N, D"
   ]
  },
  {
   "cell_type": "code",
   "execution_count": 44,
   "id": "0e0ea82d",
   "metadata": {},
   "outputs": [
    {
     "data": {
      "text/plain": [
       "torch.Size([1, 512])"
      ]
     },
     "execution_count": 44,
     "metadata": {},
     "output_type": "execute_result"
    }
   ],
   "source": [
    "out.shape"
   ]
  },
  {
   "cell_type": "code",
   "execution_count": 47,
   "id": "071bc40b",
   "metadata": {},
   "outputs": [],
   "source": [
    "out2 = model.visual.ln_post(transformers_output.permute(1, 0, 2)) @ model.visual.proj"
   ]
  },
  {
   "cell_type": "code",
   "execution_count": 48,
   "id": "1acf00bc",
   "metadata": {},
   "outputs": [
    {
     "data": {
      "text/plain": [
       "torch.Size([1, 197, 512])"
      ]
     },
     "execution_count": 48,
     "metadata": {},
     "output_type": "execute_result"
    }
   ],
   "source": [
    "out2.shape"
   ]
  },
  {
   "cell_type": "code",
   "execution_count": 49,
   "id": "bc7cd062",
   "metadata": {},
   "outputs": [
    {
     "data": {
      "text/plain": [
       "torch.Size([1, 512])"
      ]
     },
     "execution_count": 49,
     "metadata": {},
     "output_type": "execute_result"
    }
   ],
   "source": [
    "out.shape"
   ]
  },
  {
   "cell_type": "code",
   "execution_count": 87,
   "id": "7400c46c",
   "metadata": {},
   "outputs": [
    {
     "ename": "RuntimeError",
     "evalue": "The size of tensor a (768) must match the size of tensor b (512) at non-singleton dimension 1",
     "output_type": "error",
     "traceback": [
      "\u001b[0;31m---------------------------------------------------------------------------\u001b[0m",
      "\u001b[0;31mRuntimeError\u001b[0m                              Traceback (most recent call last)",
      "\u001b[0;32m<ipython-input-87-9d4a53248880>\u001b[0m in \u001b[0;36m<module>\u001b[0;34m\u001b[0m\n\u001b[0;32m----> 1\u001b[0;31m \u001b[0mtorch\u001b[0m\u001b[0;34m.\u001b[0m\u001b[0mcosine_similarity\u001b[0m\u001b[0;34m(\u001b[0m\u001b[0mout\u001b[0m\u001b[0;34m,\u001b[0m \u001b[0mout2\u001b[0m\u001b[0;34m[\u001b[0m\u001b[0;34m:\u001b[0m\u001b[0;34m,\u001b[0m \u001b[0;36m0\u001b[0m\u001b[0;34m,\u001b[0m \u001b[0;34m:\u001b[0m\u001b[0;34m]\u001b[0m\u001b[0;34m)\u001b[0m\u001b[0;34m\u001b[0m\u001b[0;34m\u001b[0m\u001b[0m\n\u001b[0m",
      "\u001b[0;31mRuntimeError\u001b[0m: The size of tensor a (768) must match the size of tensor b (512) at non-singleton dimension 1"
     ]
    }
   ],
   "source": [
    "torch.cosine_similarity(out, out2[:, 0, :])"
   ]
  },
  {
   "cell_type": "code",
   "execution_count": 54,
   "id": "59cf8911",
   "metadata": {},
   "outputs": [],
   "source": [
    "hook.clear()\n",
    "handle.remove()"
   ]
  },
  {
   "cell_type": "markdown",
   "id": "dbfbe69f",
   "metadata": {},
   "source": [
    "---"
   ]
  },
  {
   "cell_type": "markdown",
   "id": "00936674",
   "metadata": {},
   "source": [
    "# For resnet"
   ]
  },
  {
   "cell_type": "code",
   "execution_count": 55,
   "id": "ef764936",
   "metadata": {},
   "outputs": [],
   "source": [
    "model, preprocess = clip.load(\"RN50x16\", device=\"cpu\", download_root=\"/vinai/thanhlv19/workspace/clip/\")"
   ]
  },
  {
   "cell_type": "code",
   "execution_count": 56,
   "id": "8b866709",
   "metadata": {},
   "outputs": [],
   "source": [
    "handle = model.visual.attnpool.register_forward_hook(hook)"
   ]
  },
  {
   "cell_type": "code",
   "execution_count": 59,
   "id": "2f1c0725",
   "metadata": {},
   "outputs": [],
   "source": [
    "image = preprocess(Image.open(\"../optimization/jk.jpg\")).unsqueeze(0).to(\"cpu\")"
   ]
  },
  {
   "cell_type": "code",
   "execution_count": 60,
   "id": "a033b62d",
   "metadata": {},
   "outputs": [],
   "source": [
    "out = model.visual(image)"
   ]
  },
  {
   "cell_type": "code",
   "execution_count": 63,
   "id": "4d7af77d",
   "metadata": {},
   "outputs": [
    {
     "data": {
      "text/plain": [
       "torch.Size([1, 3072, 12, 12])"
      ]
     },
     "execution_count": 63,
     "metadata": {},
     "output_type": "execute_result"
    }
   ],
   "source": [
    "hook.inputs[0][0].shape"
   ]
  },
  {
   "cell_type": "code",
   "execution_count": 64,
   "id": "24eb8e0e",
   "metadata": {},
   "outputs": [
    {
     "data": {
      "text/plain": [
       "torch.Size([1, 768])"
      ]
     },
     "execution_count": 64,
     "metadata": {},
     "output_type": "execute_result"
    }
   ],
   "source": [
    "hook.outputs[0].shape"
   ]
  },
  {
   "cell_type": "code",
   "execution_count": 70,
   "id": "d6803e83",
   "metadata": {},
   "outputs": [],
   "source": [
    "inp = hook.inputs[0][0]"
   ]
  },
  {
   "cell_type": "code",
   "execution_count": 71,
   "id": "3d343b5a",
   "metadata": {},
   "outputs": [
    {
     "data": {
      "text/plain": [
       "torch.Size([1, 3072, 12, 12])"
      ]
     },
     "execution_count": 71,
     "metadata": {},
     "output_type": "execute_result"
    }
   ],
   "source": [
    "inp.shape"
   ]
  },
  {
   "cell_type": "code",
   "execution_count": 72,
   "id": "d3982100",
   "metadata": {},
   "outputs": [],
   "source": [
    "# N C H W => (HW) N C\n",
    "x = inp.reshape(inp.shape[0], inp.shape[1], inp.shape[2] * inp.shape[3]).permute(2, 0, 1)"
   ]
  },
  {
   "cell_type": "code",
   "execution_count": 73,
   "id": "3400b0ca",
   "metadata": {},
   "outputs": [
    {
     "data": {
      "text/plain": [
       "torch.Size([144, 1, 3072])"
      ]
     },
     "execution_count": 73,
     "metadata": {},
     "output_type": "execute_result"
    }
   ],
   "source": [
    "x.shape"
   ]
  },
  {
   "cell_type": "code",
   "execution_count": 74,
   "id": "8b159044",
   "metadata": {},
   "outputs": [],
   "source": [
    "x = torch.cat([x.mean(dim=0, keepdim=True), x], dim=0)  # (HW+1)NC"
   ]
  },
  {
   "cell_type": "code",
   "execution_count": 75,
   "id": "56f484fa",
   "metadata": {},
   "outputs": [
    {
     "data": {
      "text/plain": [
       "torch.Size([145, 1, 3072])"
      ]
     },
     "execution_count": 75,
     "metadata": {},
     "output_type": "execute_result"
    }
   ],
   "source": [
    "x.shape"
   ]
  },
  {
   "cell_type": "code",
   "execution_count": 76,
   "id": "fe874a4d",
   "metadata": {},
   "outputs": [],
   "source": [
    "x = x + model.visual.attnpool.positional_embedding[:, None, :].to(x.dtype)  # (HW+1)NC\n"
   ]
  },
  {
   "cell_type": "code",
   "execution_count": 77,
   "id": "c8fd6c48",
   "metadata": {},
   "outputs": [
    {
     "data": {
      "text/plain": [
       "torch.Size([145, 1, 3072])"
      ]
     },
     "execution_count": 77,
     "metadata": {},
     "output_type": "execute_result"
    }
   ],
   "source": [
    "x.shape"
   ]
  },
  {
   "cell_type": "code",
   "execution_count": 78,
   "id": "f691304d",
   "metadata": {},
   "outputs": [],
   "source": [
    "import torch.nn.functional as F"
   ]
  },
  {
   "cell_type": "code",
   "execution_count": 80,
   "id": "a6929b18",
   "metadata": {},
   "outputs": [],
   "source": [
    "x, _ = F.multi_head_attention_forward(\n",
    "            query=x, key=x, value=x,\n",
    "            embed_dim_to_check=x.shape[-1],\n",
    "            num_heads=model.visual.attnpool.num_heads,\n",
    "            q_proj_weight=model.visual.attnpool.q_proj.weight,\n",
    "            k_proj_weight=model.visual.attnpool.k_proj.weight,\n",
    "            v_proj_weight=model.visual.attnpool.v_proj.weight,\n",
    "            in_proj_weight=None,\n",
    "            in_proj_bias=torch.cat([model.visual.attnpool.q_proj.bias, model.visual.attnpool.k_proj.bias, model.visual.attnpool.v_proj.bias]),\n",
    "            bias_k=None,\n",
    "            bias_v=None,\n",
    "            add_zero_attn=False,\n",
    "            dropout_p=0,\n",
    "            out_proj_weight=model.visual.attnpool.c_proj.weight,\n",
    "            out_proj_bias=model.visual.attnpool.c_proj.bias,\n",
    "            use_separate_proj_weight=True,\n",
    "            training=model.visual.attnpool.training,\n",
    "            need_weights=False\n",
    "        )\n"
   ]
  },
  {
   "cell_type": "code",
   "execution_count": 81,
   "id": "28f4c47e",
   "metadata": {},
   "outputs": [
    {
     "data": {
      "text/plain": [
       "torch.Size([145, 1, 768])"
      ]
     },
     "execution_count": 81,
     "metadata": {},
     "output_type": "execute_result"
    }
   ],
   "source": [
    "x.shape"
   ]
  },
  {
   "cell_type": "code",
   "execution_count": 82,
   "id": "c7d694e9",
   "metadata": {},
   "outputs": [
    {
     "data": {
      "text/plain": [
       "torch.Size([1, 768])"
      ]
     },
     "execution_count": 82,
     "metadata": {},
     "output_type": "execute_result"
    }
   ],
   "source": [
    "out.shape"
   ]
  },
  {
   "cell_type": "code",
   "execution_count": 84,
   "id": "4761dfc8",
   "metadata": {},
   "outputs": [
    {
     "data": {
      "text/plain": [
       "torch.Size([1, 768])"
      ]
     },
     "execution_count": 84,
     "metadata": {},
     "output_type": "execute_result"
    }
   ],
   "source": [
    "x[0].shape"
   ]
  },
  {
   "cell_type": "code",
   "execution_count": 93,
   "id": "baee5d49",
   "metadata": {},
   "outputs": [],
   "source": [
    "import numpy as np"
   ]
  },
  {
   "cell_type": "code",
   "execution_count": 95,
   "id": "fc8d07ac",
   "metadata": {},
   "outputs": [
    {
     "data": {
      "text/plain": [
       "True"
      ]
     },
     "execution_count": 95,
     "metadata": {},
     "output_type": "execute_result"
    }
   ],
   "source": [
    "np.allclose(torch.cosine_similarity(x[0], out).item(), 1)"
   ]
  },
  {
   "cell_type": "code",
   "execution_count": null,
   "id": "74da8181",
   "metadata": {},
   "outputs": [],
   "source": []
  }
 ],
 "metadata": {
  "kernelspec": {
   "display_name": "Python 3",
   "language": "python",
   "name": "python3"
  },
  "language_info": {
   "codemirror_mode": {
    "name": "ipython",
    "version": 3
   },
   "file_extension": ".py",
   "mimetype": "text/x-python",
   "name": "python",
   "nbconvert_exporter": "python",
   "pygments_lexer": "ipython3",
   "version": "3.6.13"
  }
 },
 "nbformat": 4,
 "nbformat_minor": 5
}
